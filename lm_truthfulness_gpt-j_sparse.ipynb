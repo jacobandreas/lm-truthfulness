{
 "cells": [
  {
   "cell_type": "code",
   "execution_count": 1,
   "metadata": {},
   "outputs": [],
   "source": [
    "MODEL = \"gpt-j\"\n",
    "N_DEV = 500"
   ]
  },
  {
   "cell_type": "code",
   "execution_count": 2,
   "metadata": {},
   "outputs": [],
   "source": [
    "import csv\n",
    "import jsonlines\n",
    "import json\n",
    "import torch\n",
    "from torch import nn, optim\n",
    "from transformers import AutoTokenizer, GPT2LMHeadModel, GPT2Tokenizer, GPTJForCausalLM\n",
    "from tqdm import tqdm\n",
    "import numpy as np\n",
    "import os\n",
    "\n",
    "from matplotlib import pyplot as plt\n",
    "from matplotlib.patches import Rectangle\n",
    "import seaborn as sns\n",
    "import pandas as pd\n",
    "import scipy.stats\n",
    "\n",
    "torch.manual_seed(0)\n",
    "np.random.seed(0)"
   ]
  },
  {
   "cell_type": "code",
   "execution_count": 3,
   "metadata": {},
   "outputs": [],
   "source": [
    "sns.set()\n",
    "sns.set_style(\"white\")\n",
    "sns.set_style({'font.family':'serif', 'font.serif':'Times New Roman'})"
   ]
  },
  {
   "cell_type": "code",
   "execution_count": 4,
   "metadata": {},
   "outputs": [],
   "source": [
    "def load_boolq(split, max_examples=None):\n",
    "    data = jsonlines.open(f\"boolean-questions/{split}.jsonl\")\n",
    "    questions = []\n",
    "    for line in data:\n",
    "        q = line[\"question\"]\n",
    "        q = f\"{q}?\"\n",
    "        \n",
    "        a_good = str(line[\"answer\"]).lower()\n",
    "        a_bad = \"false\" if a_good == \"true\" else \"true\"\n",
    "        \n",
    "        questions.append((q, a_good, a_bad))\n",
    "        if max_examples is not None and len(questions) == max_examples:\n",
    "            break\n",
    "    np.random.shuffle(questions)\n",
    "    return questions\n",
    "\n",
    "def load_sciq(split, max_examples=None):\n",
    "    questions = []\n",
    "    with open(f\"sciq/{split}.json\") as reader:\n",
    "        data = json.load(reader)\n",
    "        \n",
    "    for line in data:\n",
    "        q = line[\"question\"]\n",
    "        \n",
    "        a_good = line[\"correct_answer\"]\n",
    "        a_bad = line[\"distractor1\"]\n",
    "        \n",
    "        questions.append((q, a_good, a_bad))\n",
    "        if max_examples is not None and len(questions) == max_examples:\n",
    "            break\n",
    "    np.random.shuffle(questions)\n",
    "    return questions\n",
    "\n",
    "def load_creak(split, max_examples=None):\n",
    "    questions = []\n",
    "    reader = jsonlines.open(f\"creak/data/creak/{split}.json\")\n",
    "    for line in reader:\n",
    "        q = line[\"sentence\"]\n",
    "        a_good = line[\"label\"]\n",
    "        a_bad = \"true\" if line[\"label\"] == \"false\" else \"false\"\n",
    "        questions.append((q, a_good, a_bad))\n",
    "    np.random.shuffle(questions)\n",
    "    return questions\n",
    "        \n",
    "    "
   ]
  },
  {
   "cell_type": "code",
   "execution_count": 5,
   "metadata": {},
   "outputs": [],
   "source": [
    "if MODEL.startswith(\"gpt2\"):\n",
    "    #lm = GPT2LMHeadModel.from_pretrained(MODEL).eval().cuda()\n",
    "    tokenizer = GPT2Tokenizer.from_pretrained(MODEL)\n",
    "elif MODEL == \"gpt-j\":\n",
    "    #lm = GPTJForCausalLM.from_pretrained(\n",
    "    #    \"EleutherAI/gpt-j-6B\",\n",
    "    #    revision=\"float16\",\n",
    "    #    torch_dtype=torch.float16\n",
    "    #).eval().cuda()\n",
    "    tokenizer = AutoTokenizer.from_pretrained(\"EleutherAI/gpt-j-6B\")\n",
    "\n",
    "probe_layer = -1\n",
    "probe_reduction = lambda tensor: tensor[:, -1, :]"
   ]
  },
  {
   "cell_type": "code",
   "execution_count": 6,
   "metadata": {},
   "outputs": [],
   "source": [
    "def lm_pred(toks):\n",
    "    results = lm(toks, labels=toks, output_hidden_states=True)\n",
    "    assert toks.shape[0] == 1\n",
    "    results.logprob = -results[\"loss\"] * toks.shape[1]\n",
    "    return results\n",
    "\n",
    "@torch.no_grad()\n",
    "def get_preds_and_reprs(data):\n",
    "    ratios = []\n",
    "    corrects = []\n",
    "    qa_good_reprs = []\n",
    "    qa_bad_reprs = []\n",
    "    for q, a_good, a_bad in tqdm(data):\n",
    "        qa_good_tok = tokenizer(f\"{q} {a_good}\", return_tensors=\"pt\").input_ids.cuda()\n",
    "        qa_good_pred = lm_pred(qa_good_tok)\n",
    "        qa_good_repr = probe_reduction(qa_good_pred.hidden_states[probe_layer])\n",
    "\n",
    "        qa_bad_tok = tokenizer(f\"{q} {a_bad}\", return_tensors=\"pt\").input_ids.cuda()\n",
    "        qa_bad_pred = lm_pred(qa_bad_tok)\n",
    "        qa_bad_repr = probe_reduction(qa_bad_pred.hidden_states[probe_layer])\n",
    "        \n",
    "        ratios.append(qa_good_pred.logprob - qa_bad_pred.logprob)\n",
    "        corrects.append(qa_good_pred.logprob > qa_bad_pred.logprob)\n",
    "        qa_good_reprs.append(qa_good_repr)\n",
    "        qa_bad_reprs.append(qa_bad_repr)\n",
    "    return {\n",
    "        \"ratio\": torch.tensor(ratios),\n",
    "        \"correct\": torch.tensor(corrects),\n",
    "        \"good_repr\": torch.cat(qa_good_reprs, dim=0),\n",
    "        \"bad_repr\": torch.cat(qa_bad_reprs, dim=0)\n",
    "    }"
   ]
  },
  {
   "cell_type": "code",
   "execution_count": 7,
   "metadata": {},
   "outputs": [],
   "source": [
    "data = {\n",
    "    dataset_name: {\n",
    "        split_name: loader(split_name) for split_name in [\"train\", \"valid\"]\n",
    "    }\n",
    "    for dataset_name, loader in [(\"boolq\", load_boolq), (\"sciq\", load_sciq), (\"creak\", load_creak)]\n",
    "}\n",
    "\n",
    "def process_data(data, suffix):\n",
    "    data_path = f\"cache/data_processed_{MODEL}{suffix}.pt\"\n",
    "    if os.path.exists(data_path):\n",
    "        data_processed = torch.load(data_path)\n",
    "    else:\n",
    "        data_processed = {}\n",
    "\n",
    "    changed = False\n",
    "    for dataset_name, dataset in data.items():\n",
    "        if dataset_name not in data_processed:\n",
    "            data_processed[dataset_name] = {}\n",
    "        for split_name, split_data in dataset.items():\n",
    "            if split_name not in data_processed[dataset_name]:\n",
    "                changed = True\n",
    "                data_processed[dataset_name][split_name] = get_preds_and_reprs(split_data)\n",
    "\n",
    "    if changed:\n",
    "        torch.save(data_processed, data_path)\n",
    "        \n",
    "    return data_processed\n",
    "\n",
    "data_processed = process_data(data, \"\")"
   ]
  },
  {
   "cell_type": "markdown",
   "metadata": {},
   "source": [
    "## Probes are more accurate than models"
   ]
  },
  {
   "cell_type": "code",
   "execution_count": 8,
   "metadata": {},
   "outputs": [
    {
     "name": "stdout",
     "output_type": "stream",
     "text": [
      "boolq\n",
      "probe acc 0.6238532066345215\n",
      "model acc 0.6149846911430359\n",
      "\n",
      "sciq\n",
      "probe acc 0.8860000371932983\n",
      "model acc 0.8379999995231628\n",
      "\n",
      "creak\n",
      "probe acc 0.7089715600013733\n",
      "model acc 0.50255286693573\n",
      "\n"
     ]
    }
   ],
   "source": [
    "class Probe(nn.Module):\n",
    "    def __init__(self, model_dim):\n",
    "        super().__init__()\n",
    "        self.layer = nn.Linear(model_dim, 2)\n",
    "    \n",
    "    def forward(self, reprs):\n",
    "        return self.layer(reprs)\n",
    "    \n",
    "    def predict(self, good_reprs, bad_reprs):\n",
    "        return (self(good_reprs)[:, 1] > self(bad_reprs)[:, 1]).float()\n",
    "    \n",
    "    def l1(self):\n",
    "        return torch.norm(self.layer.weight, 1)\n",
    "    \n",
    "@torch.no_grad()\n",
    "def eval_probe(probe, data_processed):\n",
    "    return probe.predict(\n",
    "        data_processed[\"good_repr\"],\n",
    "        data_processed[\"bad_repr\"]\n",
    "    ).mean().item()\n",
    "\n",
    "def train_probe(train_data_processed, val_data_processed, l1=0):\n",
    "    n_train, model_dim = train_data_processed[\"good_repr\"].shape\n",
    "    probe = Probe(model_dim).float().cuda()\n",
    "    objective = nn.CrossEntropyLoss()\n",
    "    opt = optim.Adam(probe.parameters(), lr=0.003)\n",
    "    for i in range(200):\n",
    "        loss_good = objective(probe(train_data_processed[\"good_repr\"][:-N_DEV].float()), torch.ones(n_train-N_DEV).long().cuda())\n",
    "        loss_bad = objective(probe(train_data_processed[\"bad_repr\"][:-N_DEV].float()), torch.zeros(n_train-N_DEV).long().cuda())\n",
    "        loss = loss_good + loss_bad + l1 * probe.l1()\n",
    "        opt.zero_grad()\n",
    "        loss.backward()\n",
    "        opt.step()\n",
    "        if False:\n",
    "            if (i+1) % 10  == 0:\n",
    "                print(loss.item())\n",
    "    return probe.half()\n",
    "\n",
    "#def plot_accuracy(model_preds, probe_preds):\n",
    "#    df = pd.DataFrame({\"model\": model_preds > 0.5, \"probe\": probe_preds > 0.5})\n",
    "#    sns.barplot(data=df)\n",
    "#    plt.ylim(0.5, 1)\n",
    "#    plt.show()\n",
    "    \n",
    "\n",
    "probes = {}\n",
    "probe_preds = {}\n",
    "probe_dev_preds = {}\n",
    "for dataset in data:\n",
    "    print(dataset)\n",
    "    probe = train_probe(data_processed[dataset][\"train\"], data_processed[dataset][\"valid\"])\n",
    "    probes[dataset] = probe\n",
    "    probe_preds[dataset] = torch.sigmoid(\n",
    "        probe(data_processed[dataset][\"valid\"][\"good_repr\"])[:, 1]\n",
    "        - probe(data_processed[dataset][\"valid\"][\"bad_repr\"])[:, 1]\n",
    "    ).detach().cpu().numpy()\n",
    "    probe_dev_preds[dataset] = torch.sigmoid(\n",
    "        probe(data_processed[dataset][\"train\"][\"good_repr\"][-N_DEV:])[:, 1]\n",
    "        - probe(data_processed[dataset][\"train\"][\"bad_repr\"][-N_DEV:])[:, 1]\n",
    "    ).detach().cpu().numpy()\n",
    "\n",
    "    print(\"probe acc\", eval_probe(probe, data_processed[dataset][\"valid\"]))\n",
    "    print(\"model acc\", data_processed[dataset][\"valid\"][\"correct\"].float().mean().item())\n",
    "    #plot_accuracy(\n",
    "    #    torch.sigmoid(data_processed[dataset][\"valid\"][\"ratio\"].float()),\n",
    "    #    probe_preds[dataset]\n",
    "    #)\n",
    "    print()"
   ]
  },
  {
   "cell_type": "markdown",
   "metadata": {},
   "source": [
    "## Probes and predictions are sensitive to formatting!"
   ]
  },
  {
   "cell_type": "code",
   "execution_count": 9,
   "metadata": {},
   "outputs": [
    {
     "name": "stdout",
     "output_type": "stream",
     "text": [
      "qa\n",
      "boolq\n",
      "probe acc 0.6360856294631958\n",
      "model acc 0.6140672564506531\n",
      "\n",
      "sciq\n",
      "probe acc 0.9040000438690186\n",
      "model acc 0.8740000128746033\n",
      "\n",
      "creak\n",
      "probe acc 0.7381473183631897\n",
      "model acc 0.5069292783737183\n",
      "\n",
      "\n",
      "yn\n",
      "boolq\n",
      "probe acc 0.6174311637878418\n",
      "model acc 0.43180426955223083\n",
      "\n",
      "sciq\n",
      "probe acc 0.0\n",
      "model acc 0.0\n",
      "\n",
      "creak\n",
      "probe acc 0.7359591722488403\n",
      "model acc 0.470459520816803\n",
      "\n",
      "\n",
      "cap\n",
      "boolq\n",
      "probe acc 0.635168194770813\n",
      "model acc 0.621100902557373\n",
      "\n",
      "sciq\n",
      "probe acc 0.8980000615119934\n",
      "model acc 0.8370000123977661\n",
      "\n",
      "creak\n",
      "probe acc 0.6965718269348145\n",
      "model acc 0.5076586604118347\n",
      "\n",
      "\n",
      "dot\n",
      "boolq\n",
      "probe acc 0.6348623633384705\n",
      "model acc 0.48990824818611145\n",
      "\n",
      "sciq\n",
      "probe acc 0.9000000357627869\n",
      "model acc 0.8479999899864197\n",
      "\n",
      "creak\n",
      "probe acc 0.7293946146965027\n",
      "model acc 0.50255286693573\n",
      "\n",
      "\n"
     ]
    }
   ],
   "source": [
    "tf_to_yn = lambda a: \"yes\" if a == \"true\" else \"no\"\n",
    "\n",
    "formatters = {\n",
    "    \"qa\": lambda q, ag, ab: (f\"Q: {q} A:\", ag, ab),\n",
    "    \"yn\": lambda q, ag, ab: (q,  tf_to_yn(ag), tf_to_yn(ab)),\n",
    "    \"cap\": lambda q, ag, ab: (q, ag.capitalize(), ab.capitalize()),\n",
    "    \"dot\": lambda q, ag, ab: (q, ag + \".\", ab + \".\"),\n",
    "}\n",
    "batch_format = lambda formatter, dataset: [formatter(*datum) for datum in dataset]\n",
    "\n",
    "for format_name, formatter in formatters.items():\n",
    "    data_fmt = {\n",
    "        dataset_name: {\n",
    "            split_name: batch_format(formatter, loader(split_name)) \n",
    "            for split_name in [\"train\", \"valid\"]\n",
    "        }\n",
    "        for dataset_name, loader in [(\"boolq\", load_boolq), (\"sciq\", load_sciq), (\"creak\", load_creak)]\n",
    "    }\n",
    "    data_processed_fmt = process_data(data_fmt, f\"_{format_name}\")\n",
    "\n",
    "    print(format_name)\n",
    "    for dataset in data_fmt:\n",
    "        print(dataset)\n",
    "        n_train, model_dim = data_processed_fmt[dataset][\"train\"][\"good_repr\"].shape\n",
    "        probe = train_probe(data_processed_fmt[dataset][\"train\"], data_processed_fmt[dataset][\"valid\"])\n",
    "        print(\"probe acc\", eval_probe(probe, data_processed_fmt[dataset][\"valid\"]))\n",
    "        print(\"model acc\", data_processed_fmt[dataset][\"valid\"][\"correct\"].float().mean().item())\n",
    "        print()\n",
    "    print()"
   ]
  },
  {
   "cell_type": "code",
   "execution_count": 35,
   "metadata": {
    "scrolled": false
   },
   "outputs": [
    {
     "name": "stdout",
     "output_type": "stream",
     "text": [
      "boolq\n",
      "probe acc 0.6266055107116699\n",
      "probe sparse 3841 8192\n",
      "model acc 0.6149846911430359\n"
     ]
    },
    {
     "data": {
      "image/png": "[encoded data removed]",
      "text/plain": [
       "<Figure size 200x480 with 1 Axes>"
      ]
     },
     "metadata": {},
     "output_type": "display_data"
    },
    {
     "name": "stdout",
     "output_type": "stream",
     "text": [
      "\n",
      "boolq\n",
      "probe acc 0.6214067339897156\n",
      "probe sparse 362 8192\n",
      "model acc 0.6149846911430359\n"
     ]
    },
    {
     "data": {
      "image/png": "[encoded data removed]",
      "text/plain": [
       "<Figure size 200x480 with 1 Axes>"
      ]
     },
     "metadata": {},
     "output_type": "display_data"
    },
    {
     "name": "stdout",
     "output_type": "stream",
     "text": [
      "\n",
      "boolq\n",
      "probe acc 0.6217125058174133\n",
      "probe sparse 43 8192\n",
      "model acc 0.6149846911430359\n"
     ]
    },
    {
     "data": {
      "image/png": "[encoded data removed]",
      "text/plain": [
       "<Figure size 200x480 with 1 Axes>"
      ]
     },
     "metadata": {},
     "output_type": "display_data"
    },
    {
     "name": "stdout",
     "output_type": "stream",
     "text": [
      "\n",
      "boolq\n",
      "probe acc 0.6217125058174133\n",
      "probe sparse 43 8192\n",
      "model acc 0.6149846911430359\n"
     ]
    },
    {
     "data": {
      "image/png": "[encoded data removed]",
      "text/plain": [
       "<Figure size 200x480 with 1 Axes>"
      ]
     },
     "metadata": {},
     "output_type": "display_data"
    },
    {
     "name": "stdout",
     "output_type": "stream",
     "text": [
      "\n",
      "boolq\n",
      "probe acc 0.6217125058174133\n",
      "probe sparse 154 8192\n",
      "model acc 0.6149846911430359\n"
     ]
    },
    {
     "data": {
      "image/png": "[encoded data removed]",
      "text/plain": [
       "<Figure size 200x480 with 1 Axes>"
      ]
     },
     "metadata": {},
     "output_type": "display_data"
    },
    {
     "name": "stdout",
     "output_type": "stream",
     "text": [
      "\n",
      "\n",
      "sciq\n",
      "probe acc 0.8820000290870667\n",
      "probe sparse 3873 8192\n",
      "model acc 0.8379999995231628\n"
     ]
    },
    {
     "data": {
      "image/png": "[encoded data removed]",
      "text/plain": [
       "<Figure size 200x480 with 1 Axes>"
      ]
     },
     "metadata": {},
     "output_type": "display_data"
    },
    {
     "name": "stdout",
     "output_type": "stream",
     "text": [
      "\n",
      "sciq\n",
      "probe acc 0.8840000629425049\n",
      "probe sparse 837 8192\n",
      "model acc 0.8379999995231628\n"
     ]
    },
    {
     "data": {
      "image/png": "[encoded data removed]",
      "text/plain": [
       "<Figure size 200x480 with 1 Axes>"
      ]
     },
     "metadata": {},
     "output_type": "display_data"
    },
    {
     "name": "stdout",
     "output_type": "stream",
     "text": [
      "\n",
      "sciq\n",
      "probe acc 0.8700000643730164\n",
      "probe sparse 371 8192\n",
      "model acc 0.8379999995231628\n"
     ]
    },
    {
     "data": {
      "image/png": "[encoded data removed]",
      "text/plain": [
       "<Figure size 200x480 with 1 Axes>"
      ]
     },
     "metadata": {},
     "output_type": "display_data"
    },
    {
     "name": "stdout",
     "output_type": "stream",
     "text": [
      "\n",
      "sciq\n",
      "probe acc 0.7780000567436218\n",
      "probe sparse 187 8192\n",
      "model acc 0.8379999995231628\n"
     ]
    },
    {
     "data": {
      "image/png": "[encoded data removed]",
      "text/plain": [
       "<Figure size 200x480 with 1 Axes>"
      ]
     },
     "metadata": {},
     "output_type": "display_data"
    },
    {
     "name": "stdout",
     "output_type": "stream",
     "text": [
      "\n",
      "sciq\n",
      "probe acc 0.7610000371932983\n",
      "probe sparse 201 8192\n",
      "model acc 0.8379999995231628\n"
     ]
    },
    {
     "data": {
      "image/png": "[encoded data removed]",
      "text/plain": [
       "<Figure size 200x480 with 1 Axes>"
      ]
     },
     "metadata": {},
     "output_type": "display_data"
    },
    {
     "name": "stdout",
     "output_type": "stream",
     "text": [
      "\n",
      "\n",
      "creak\n",
      "probe acc 0.7024070024490356\n",
      "probe sparse 3853 8192\n",
      "model acc 0.50255286693573\n"
     ]
    },
    {
     "data": {
      "image/png": "[encoded data removed]",
      "text/plain": [
       "<Figure size 200x480 with 1 Axes>"
      ]
     },
     "metadata": {},
     "output_type": "display_data"
    },
    {
     "name": "stdout",
     "output_type": "stream",
     "text": [
      "\n",
      "creak\n",
      "probe acc 0.6710430383682251\n",
      "probe sparse 790 8192\n",
      "model acc 0.50255286693573\n"
     ]
    },
    {
     "data": {
      "image/png": "[encoded data removed]",
      "text/plain": [
       "<Figure size 200x480 with 1 Axes>"
      ]
     },
     "metadata": {},
     "output_type": "display_data"
    },
    {
     "name": "stdout",
     "output_type": "stream",
     "text": [
      "\n",
      "creak\n",
      "probe acc 0.5973742008209229\n",
      "probe sparse 89 8192\n",
      "model acc 0.50255286693573\n"
     ]
    },
    {
     "data": {
      "image/png": "[encoded data removed]",
      "text/plain": [
       "<Figure size 200x480 with 1 Axes>"
      ]
     },
     "metadata": {},
     "output_type": "display_data"
    },
    {
     "name": "stdout",
     "output_type": "stream",
     "text": [
      "\n",
      "creak\n",
      "probe acc 0.4945295453071594\n",
      "probe sparse 38 8192\n",
      "model acc 0.50255286693573\n"
     ]
    },
    {
     "data": {
      "image/png": "[encoded data removed]",
      "text/plain": [
       "<Figure size 200x480 with 1 Axes>"
      ]
     },
     "metadata": {},
     "output_type": "display_data"
    },
    {
     "name": "stdout",
     "output_type": "stream",
     "text": [
      "\n",
      "creak\n",
      "probe acc 0.5193289518356323\n",
      "probe sparse 90 8192\n",
      "model acc 0.50255286693573\n"
     ]
    },
    {
     "data": {
      "image/png": "[encoded data removed]",
      "text/plain": [
       "<Figure size 200x480 with 1 Axes>"
      ]
     },
     "metadata": {},
     "output_type": "display_data"
    },
    {
     "name": "stdout",
     "output_type": "stream",
     "text": [
      "\n",
      "\n"
     ]
    }
   ],
   "source": [
    "for dataset in data:\n",
    "    for l1 in [0, 0.01, 0.03, 0.1, 0.3]:\n",
    "        n_train, model_dim = data_processed[dataset][\"train\"][\"good_repr\"].shape\n",
    "        probe = train_probe(data_processed[dataset][\"train\"], data_processed[dataset][\"valid\"], l1=l1)\n",
    "        probe.layer.weight.data[probe.layer.weight.data < 1e-3] = 0\n",
    "        probe_preds = torch.sigmoid(\n",
    "            probe(data_processed[dataset][\"valid\"][\"good_repr\"])[:, 1]\n",
    "            - probe(data_processed[dataset][\"valid\"][\"bad_repr\"])[:, 1]\n",
    "        ).detach().cpu().numpy()\n",
    "        lm_preds = torch.sigmoid(data_processed[dataset][\"valid\"][\"ratio\"].float()).detach().cpu().numpy()\n",
    "        lm_correct = lm_preds > 0.499\n",
    "        probe_correct = probe_preds > 0.499\n",
    "        \n",
    "        lm_probe = lm_correct & probe_correct\n",
    "        lm_noprobe = lm_correct & ~probe_correct\n",
    "        nolm_probe = ~lm_correct & probe_correct\n",
    "        nolm_noprobe = ~lm_correct & ~probe_correct\n",
    "        cat_labels = 0 * lm_probe + 1 * nolm_probe + 2 * lm_noprobe + 3 * nolm_noprobe\n",
    "        type_order = [\"both right\", \"probe correct\", \"pred correct\", \"both wrong\"]\n",
    "        #palette = dict(zip(type_order, sns.husl_palette(5, h=0.1)))\n",
    "        names = dict(enumerate(type_order))\n",
    "        base_palette = sns.husl_palette(5, h=0.1)\n",
    "        neutral = (.48, .48, .48)\n",
    "        neutral_light = (0.87, 0.87, 0.87)\n",
    "        palette = {\"both right\": neutral, \"probe correct\": base_palette[0], \"pred correct\": base_palette[2], \"both wrong\": neutral_light}\n",
    "        named_labels = [names[c] for c in cat_labels]\n",
    "        df = pd.DataFrame({\n",
    "            'lm': lm_preds,\n",
    "            'probe': probe_preds,\n",
    "            'type': named_labels,\n",
    "        }).sort_values(by=\"type\")\n",
    "        \n",
    "        print(dataset)\n",
    "        print(\"probe acc\", eval_probe(probe, data_processed[dataset][\"valid\"]))\n",
    "        print(\"probe sparse\", (probe.layer.weight.abs() != 0).int().sum().item(), probe.layer.weight.shape[0] * probe.layer.weight.shape[1])\n",
    "        print(\"model acc\", data_processed[dataset][\"valid\"][\"correct\"].float().mean().item())\n",
    "\n",
    "        fig, ax = plt.subplots(figsize=(2, 4.8))\n",
    "        sns.countplot(ax=ax, data=df, x=\"type\", order=type_order, palette=palette)\n",
    "        ax.xaxis.set_ticklabels([])\n",
    "        ax.yaxis.set_ticklabels([])\n",
    "        plt.ylim(0, len(df))\n",
    "        plt.show()\n",
    "\n",
    "\n",
    "        \n",
    "        print()\n",
    "    print()"
   ]
  },
  {
   "cell_type": "markdown",
   "metadata": {},
   "source": [
    "## Probe superiority seems mainly attributable to probe calibration"
   ]
  },
  {
   "cell_type": "code",
   "execution_count": null,
   "metadata": {
    "scrolled": false
   },
   "outputs": [],
   "source": [
    "def plot_calibration(probe_preds):\n",
    "    p_true = probe_preds\n",
    "    p_false = 1 - p_true\n",
    "    calib_range = []\n",
    "    calib_acc = []\n",
    "    calib_size = []\n",
    "    step = 0.1\n",
    "    for start in np.arange(0, 1 + step, step):\n",
    "        end = start + step\n",
    "        pred_true = ((start <= p_true) & (p_true < end)).sum()\n",
    "        pred_false = ((start <= p_false) & (p_false < end)).sum()\n",
    "        if pred_true + pred_false == 0:\n",
    "            continue\n",
    "        frac_true = pred_true / (pred_true + pred_false)\n",
    "        calib_range.append(start)\n",
    "        calib_acc.append(frac_true)\n",
    "        calib_size.append(pred_true + pred_false)\n",
    "\n",
    "    data = pd.DataFrame({\"range\": calib_range, \"acc\": calib_acc, \"size\": calib_size})\n",
    "    fig, ax = plt.subplots(figsize=(3, 3))\n",
    "    sns.scatterplot(ax=ax, data=data, x=\"range\", y=\"acc\", size=\"size\")\n",
    "    ax.get_legend().remove()\n",
    "\n",
    "    plt.xlim(0, 1)\n",
    "    plt.ylim(0, 1)\n",
    "    plt.show()\n",
    "\n",
    "for dataset in data:\n",
    "    print(dataset)\n",
    "    plot_calibration(probe_preds[dataset])\n",
    "    plot_calibration(torch.sigmoid(data_processed[dataset][\"valid\"][\"ratio\"].float()).detach().cpu().numpy())"
   ]
  },
  {
   "cell_type": "markdown",
   "metadata": {},
   "source": [
    "## Models are not strictly better than probes"
   ]
  },
  {
   "cell_type": "code",
   "execution_count": null,
   "metadata": {
    "scrolled": false
   },
   "outputs": [],
   "source": [
    "for dataset in data:\n",
    "    lm_dev_preds = torch.sigmoid(data_processed[dataset][\"train\"][\"ratio\"][-N_DEV:].float()).detach().cpu().numpy()\n",
    "    lm_preds = torch.sigmoid(data_processed[dataset][\"valid\"][\"ratio\"].float()).detach().cpu().numpy()\n",
    "    lm_correct = lm_preds > 0.499\n",
    "    probe_correct = probe_preds[dataset] > 0.499\n",
    "    \n",
    "    ensemble_scores = []\n",
    "    for d in np.arange(0, 1, 0.05):\n",
    "        dev_acc = ((d * lm_dev_preds + (1-d) * probe_dev_preds[dataset]) > 0.5).mean()\n",
    "        acc = ((d * lm_preds + (1-d) * probe_preds[dataset]) > 0.5).mean()\n",
    "        ensemble_scores.append((dev_acc, acc))\n",
    "    ensemble_corrects = max(ensemble_scores)[1]\n",
    "        \n",
    "    lm_probe = lm_correct & probe_correct\n",
    "    lm_noprobe = lm_correct & ~probe_correct\n",
    "    nolm_probe = ~lm_correct & probe_correct\n",
    "    nolm_noprobe = ~lm_correct & ~probe_correct\n",
    "    cat_labels = 0 * lm_probe + 1 * nolm_probe + 2 * lm_noprobe + 3 * nolm_noprobe\n",
    "    type_order = [\"both right\", \"probe correct\", \"pred correct\", \"both wrong\"]\n",
    "    #palette = dict(zip(type_order, sns.husl_palette(5, h=0.1)))\n",
    "    names = dict(enumerate(type_order))\n",
    "    base_palette = sns.husl_palette(5, h=0.1)\n",
    "    neutral = (.48, .48, .48)\n",
    "    neutral_light = (0.87, 0.87, 0.87)\n",
    "    palette = {\"both right\": neutral, \"probe correct\": base_palette[0], \"pred correct\": base_palette[2], \"both wrong\": neutral_light}\n",
    "\n",
    "    #names = {0: \"both right\", 1: \"pred correct\", 2: \"probe_correct\", 3: \"both wrong\"}\n",
    "    named_labels = [names[c] for c in cat_labels]\n",
    "    \n",
    "    print(dataset)\n",
    "    \n",
    "    df = pd.DataFrame({\n",
    "        'lm': lm_preds,\n",
    "        'probe': probe_preds[dataset],\n",
    "        'type': named_labels,\n",
    "    }).sort_values(by=\"type\")\n",
    "    \n",
    "    g = sns.JointGrid(data=df, x=\"lm\", y=\"probe\", hue=\"type\", xlim=(0, 1), ylim=(0, 1), space=0, palette=palette)\n",
    "    g.plot_joint(\n",
    "        sns.histplot, #discrete=(True, False),\n",
    "        binrange=[0, 1],\n",
    "        bins=20,\n",
    "        #cmap=\"gist_gray_r\",\n",
    "    )\n",
    "    g.plot_marginals(\n",
    "        sns.histplot, multiple=\"stack\",\n",
    "        binrange=[0, 1],\n",
    "        bins=20,\n",
    "        #color=\"gray\",\n",
    "\n",
    "    )\n",
    "    g.figure.axes[0].set_xticks([0, 0.5, 1])\n",
    "    g.figure.axes[0].set_yticks([0, 0.5, 1])\n",
    "    g.figure.axes[0].set_axisbelow(False)\n",
    "    g.figure.axes[0].grid(color=\"black\")\n",
    "    g.figure.axes[0].get_legend().remove()\n",
    "    #g.plot_joint(sns.scatterplot, sns.histplot)\n",
    "    #g = sns.jointplot(data=df, x=\"lm\", y=\"probe\")\n",
    "    plt.show()\n",
    "    \n",
    "    #sns.relplot(data=df, x='lm', y='probe', hue='type')\n",
    "    #plt.xlim(0, 1)\n",
    "    #plt.ylim(0, 1)\n",
    "    #plt.show()\n",
    "    \n",
    "    \n",
    "    fig, ax = plt.subplots(figsize=(2, 4.8))\n",
    "    sns.countplot(ax=ax, data=df, x=\"type\", order=type_order, palette=palette)\n",
    "    ax.xaxis.set_ticklabels([])\n",
    "    ax.yaxis.set_ticklabels([])\n",
    "    plt.ylim(0, len(df))\n",
    "    plt.show()\n",
    "    \n",
    "    #print(\"lm & !probe\", (lm_correct & (~probe_correct)).mean())\n",
    "    #print(\"!lm & probe\", ((~lm_correct) & probe_correct).mean())\n",
    "    #print()\n",
    "    print(\"lm acc      \", lm_correct.mean())\n",
    "    print(\"probe acc   \", probe_correct.mean())\n",
    "    print(\"ensemble acc\", ensemble_corrects)\n"
   ]
  },
  {
   "cell_type": "markdown",
   "metadata": {},
   "source": [
    "## When probe and model disagree, probe is just uncertain"
   ]
  },
  {
   "cell_type": "code",
   "execution_count": null,
   "metadata": {},
   "outputs": [],
   "source": [
    "for dataset in data:\n",
    "    print(dataset)\n",
    "    print()\n",
    "    lm_preds = torch.sigmoid(data_processed[dataset][\"valid\"][\"ratio\"].float()).detach().cpu().numpy()\n",
    "    disagreements = (lm_preds > 0.5) ^ (probe_preds[dataset] > 0.5)\n",
    "    disagree_prob_lm = abs(lm_preds[disagreements]-.5)\n",
    "    disagree_prob_probe = abs(probe_preds[dataset][disagreements]-.5)\n",
    "    disagree_acc_lm = (lm_preds[disagreements] > 0.5)\n",
    "    disagree_acc_probe = (probe_preds[dataset][disagreements] > 0.5)\n",
    "    agree_prob_lm = abs(lm_preds[~disagreements]-.5)\n",
    "    agree_prob_probe = abs(probe_preds[dataset][~disagreements]-.5)\n",
    "    print(\"lm disagree conf\", disagree_prob_lm.mean(), disagree_prob_lm.std())\n",
    "    print(\"probe disagree conf\", disagree_prob_probe.mean(), disagree_prob_probe.std())\n",
    "    print(\"lm agree conf\", agree_prob_lm.mean(), agree_prob_lm.std())\n",
    "    print(\"probe agree conf\", agree_prob_probe.mean(), agree_prob_probe.std())\n",
    "    print()\n",
    "    \n",
    "    print(\"lm disagree acc\", disagree_acc_lm.mean())\n",
    "    print(\"probe disagree acc\", disagree_acc_probe.mean())\n",
    "    print()\n",
    "    \n",
    "    print()"
   ]
  },
  {
   "cell_type": "code",
   "execution_count": null,
   "metadata": {},
   "outputs": [],
   "source": [
    "labels = [\"deception\", \"heterogeneity (probe)\", \"agreement (correct)\", \"confabulation\", \"agreement (uncertain)\", \"heterogeneity (query)\", \"agreement (incorrect)\", \"probe error (query uncertain)\", \"probe error (query correct)\"]\n",
    "dfs = []\n",
    "for dataset in data:\n",
    "    lm_preds = torch.sigmoid(data_processed[dataset][\"valid\"][\"ratio\"].float()).detach().cpu().numpy()\n",
    "    \n",
    "    lm_lc = lm_preds < 0.333\n",
    "    lm_mc = (lm_preds >= 0.333) & (lm_preds < 0.667) #(0.333 <= lm_preds < 0.667)\n",
    "    lm_hc = 0.667 <= lm_preds\n",
    "    probe_lc = probe_preds[dataset] < 0.333\n",
    "    probe_mc = (probe_preds[dataset] >= 0.333) & (probe_preds[dataset] < 0.667) # 0.333 <= probe_preds[dataset] < 0.667\n",
    "    probe_hc = 0.667 <= probe_preds[dataset]\n",
    "    \n",
    "    deception = lm_lc & probe_hc\n",
    "    het_p = lm_mc & probe_hc\n",
    "    agr_c = lm_hc & probe_hc\n",
    "    confab = lm_lc & probe_mc\n",
    "    agr_u = lm_mc & probe_mc\n",
    "    het_l = lm_hc & probe_mc\n",
    "    agr_i = lm_lc & probe_lc\n",
    "    probe_err_u = lm_mc & probe_lc\n",
    "    probe_err_c = lm_hc & probe_lc\n",
    "    \n",
    "    cat_labels = (\n",
    "        0 * deception\n",
    "        + 1 * het_p\n",
    "        + 2 * agr_c\n",
    "        + 3 * confab\n",
    "        + 4 * agr_u\n",
    "        + 5 * het_l\n",
    "        + 6 * agr_i\n",
    "        + 7 * probe_err_u\n",
    "        + 8 * probe_err_c\n",
    "    )\n",
    "    named_labels = [labels[c] for c in cat_labels]\n",
    "    \n",
    "    df = pd.DataFrame({\n",
    "        'lm': [\"gpt2-xl\"] * len(lm_preds),\n",
    "        'dataset': [dataset] * len(lm_preds),\n",
    "        'type': named_labels,\n",
    "    }).groupby(\"dataset\")[\"type\"].value_counts(normalize=True).rename(\"percent\").reset_index()\n",
    "    dfs.append(df)\n",
    "    \n",
    "palette = {\n",
    "    \"deception\": \"#E9A365\",\n",
    "    \"heterogeneity (probe)\": \"#E9D165\",\n",
    "    \"agreement (correct)\": \"#7A7A7A\",\n",
    "    \"confabulation\": \"#F4D1B2\",\n",
    "    \"agreement (uncertain)\": \"#ABABAB\",\n",
    "    \"heterogeneity (query)\": \"#6EC168\",\n",
    "    \"agreement (incorrect)\": \"#DEDEDE\",\n",
    "    \"probe error (query uncertain)\": \"#CDEBE8\",\n",
    "    \"probe error (query correct)\": \"#68C1B8\",\n",
    "}\n",
    "#palette = sns.color_palette(palette)\n",
    "\n",
    "    \n",
    "g = sns.catplot(x=\"type\", y=\"percent\", col=\"dataset\",\n",
    "                data=pd.concat(dfs), kind=\"bar\", palette=palette, order=labels)\n",
    "g.set(xticklabels=[])\n",
    "plt.ylim(0, 0.7)\n",
    "plt.show()"
   ]
  },
  {
   "cell_type": "code",
   "execution_count": null,
   "metadata": {},
   "outputs": [],
   "source": []
  }
 ],
 "metadata": {
  "kernelspec": {
   "display_name": "Python 3",
   "language": "python",
   "name": "python3"
  },
  "language_info": {
   "codemirror_mode": {
    "name": "ipython",
    "version": 3
   },
   "file_extension": ".py",
   "mimetype": "text/x-python",
   "name": "python",
   "nbconvert_exporter": "python",
   "pygments_lexer": "ipython3",
   "version": "3.7.6"
  }
 },
 "nbformat": 4,
 "nbformat_minor": 4
}
